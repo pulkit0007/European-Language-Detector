{
  "nbformat": 4,
  "nbformat_minor": 0,
  "metadata": {
    "colab": {
      "name": "Language Detector.ipynb",
      "provenance": [],
      "collapsed_sections": []
    },
    "kernelspec": {
      "name": "python3",
      "display_name": "Python 3"
    },
    "language_info": {
      "name": "python"
    }
  },
  "cells": [
    {
      "cell_type": "code",
      "metadata": {
        "id": "I3RWFdqAvVcA"
      },
      "source": [
        "import numpy as np\n",
        "import pandas as pd\n",
        "import matplotlib.pyplot as plt\n",
        "import seaborn as sb\n",
        "from sklearn.model_selection import train_test_split\n",
        "from sklearn.pipeline import Pipeline\n",
        "from sklearn.naive_bayes import MultinomialNB\n",
        "from sklearn.feature_extraction.text import CountVectorizer\n",
        "from sklearn.metrics import confusion_matrix,classification_report"
      ],
      "execution_count": 1,
      "outputs": []
    },
    {
      "cell_type": "code",
      "metadata": {
        "id": "B1-PvE6Evrtb"
      },
      "source": [
        "#Preprocessing Data\n",
        "def file2sentences(filename): \n",
        "   txt = \"\"\n",
        "   with open(filename,\"r\",encoding=\"utf-8\") as f:\n",
        "      txt = f.read()\n",
        " \n",
        "   txt = txt.replace(\"?\",\".\")\n",
        "   txt = txt.replace(\"!\",\".\")\n",
        "   txt = txt.replace(\"»\",\"\")\n",
        "   txt = txt.replace(\"«\",\"\")\n",
        "   txt = txt.replace(\":\",\"\")\n",
        "   txt = txt.replace(\";\",\"\")\n",
        "   txt = txt.replace(\"...\",\".\")\n",
        "   txt = txt.replace(\"…\",\".\")\n",
        "   txt = txt.replace(\"\\n\",\".\")\n",
        "   txt = txt.replace(\"  \",\" \")\n",
        "   txt = txt.replace(\"\\\"\",\"\")\n",
        "   txt = txt.replace(\"„\",\"\")\n",
        "   sentences = txt.split(\".\")\n",
        "   for i in range(len(sentences)):\n",
        "      sentences[i] = sentences[i].strip()\n",
        "      \n",
        "   sentences = [x for x in sentences if x != \"\"]\n",
        "   return sentences"
      ],
      "execution_count": 2,
      "outputs": []
    },
    {
      "cell_type": "code",
      "metadata": {
        "id": "K9Y9gYDxv2mW"
      },
      "source": [
        "italian = file2sentences(\"It.txt\")\n",
        "english = file2sentences(\"En.txt\")\n",
        "german = file2sentences(\"Ge.txt\")\n",
        "french = file2sentences(\"Fr.txt\")\n",
        "spanish = file2sentences(\"Es.txt\")\n",
        "\n",
        "X = np.array(italian + english + german + french + spanish)\n",
        "y = np.array(['Italian']*len(italian) + ['English']*len(english) + ['German']*len(german) + ['French']*len(french) + ['Spanish']*len(spanish))"
      ],
      "execution_count": 3,
      "outputs": []
    },
    {
      "cell_type": "code",
      "metadata": {
        "id": "ikLOkHHty5D3"
      },
      "source": [
        "data = pd.DataFrame({'Sentences':X, 'Language':y})"
      ],
      "execution_count": 5,
      "outputs": []
    },
    {
      "cell_type": "code",
      "metadata": {
        "colab": {
          "base_uri": "https://localhost:8080/",
          "height": 419
        },
        "id": "IMmBLXx2zM_g",
        "outputId": "8326b208-c80b-40ce-bd09-f8da5f490801"
      },
      "source": [
        "data"
      ],
      "execution_count": 6,
      "outputs": [
        {
          "output_type": "execute_result",
          "data": {
            "text/html": [
              "<div>\n",
              "<style scoped>\n",
              "    .dataframe tbody tr th:only-of-type {\n",
              "        vertical-align: middle;\n",
              "    }\n",
              "\n",
              "    .dataframe tbody tr th {\n",
              "        vertical-align: top;\n",
              "    }\n",
              "\n",
              "    .dataframe thead th {\n",
              "        text-align: right;\n",
              "    }\n",
              "</style>\n",
              "<table border=\"1\" class=\"dataframe\">\n",
              "  <thead>\n",
              "    <tr style=\"text-align: right;\">\n",
              "      <th></th>\n",
              "      <th>Sentences</th>\n",
              "      <th>Language</th>\n",
              "    </tr>\n",
              "  </thead>\n",
              "  <tbody>\n",
              "    <tr>\n",
              "      <th>0</th>\n",
              "      <td>Sin dall'antichità le storie di spiriti e fant...</td>\n",
              "      <td>Italian</td>\n",
              "    </tr>\n",
              "    <tr>\n",
              "      <th>1</th>\n",
              "      <td>Molti racconti narrano di personaggi storici c...</td>\n",
              "      <td>Italian</td>\n",
              "    </tr>\n",
              "    <tr>\n",
              "      <th>2</th>\n",
              "      <td>Ad alimentare il mito è spesso la loro fine pr...</td>\n",
              "      <td>Italian</td>\n",
              "    </tr>\n",
              "    <tr>\n",
              "      <th>3</th>\n",
              "      <td>Il concetto di fantasma si basa sull'antica id...</td>\n",
              "      <td>Italian</td>\n",
              "    </tr>\n",
              "    <tr>\n",
              "      <th>4</th>\n",
              "      <td>I fantasmi non esistono, lo sanno tutti</td>\n",
              "      <td>Italian</td>\n",
              "    </tr>\n",
              "    <tr>\n",
              "      <th>...</th>\n",
              "      <td>...</td>\n",
              "      <td>...</td>\n",
              "    </tr>\n",
              "    <tr>\n",
              "      <th>421</th>\n",
              "      <td>Este es el sistema perfecto para limpiar su ha...</td>\n",
              "      <td>Spanish</td>\n",
              "    </tr>\n",
              "    <tr>\n",
              "      <th>422</th>\n",
              "      <td>Primero, mueva todos los elementos que no teng...</td>\n",
              "      <td>Spanish</td>\n",
              "    </tr>\n",
              "    <tr>\n",
              "      <th>423</th>\n",
              "      <td>Deshazte de al menos cinco cosas que no hayas ...</td>\n",
              "      <td>Spanish</td>\n",
              "    </tr>\n",
              "    <tr>\n",
              "      <th>424</th>\n",
              "      <td>Saque toda la basura y coloque todos los plato...</td>\n",
              "      <td>Spanish</td>\n",
              "    </tr>\n",
              "    <tr>\n",
              "      <th>425</th>\n",
              "      <td>Ahora busque una ubicación para cada uno de lo...</td>\n",
              "      <td>Spanish</td>\n",
              "    </tr>\n",
              "  </tbody>\n",
              "</table>\n",
              "<p>426 rows × 2 columns</p>\n",
              "</div>"
            ],
            "text/plain": [
              "                                             Sentences Language\n",
              "0    Sin dall'antichità le storie di spiriti e fant...  Italian\n",
              "1    Molti racconti narrano di personaggi storici c...  Italian\n",
              "2    Ad alimentare il mito è spesso la loro fine pr...  Italian\n",
              "3    Il concetto di fantasma si basa sull'antica id...  Italian\n",
              "4              I fantasmi non esistono, lo sanno tutti  Italian\n",
              "..                                                 ...      ...\n",
              "421  Este es el sistema perfecto para limpiar su ha...  Spanish\n",
              "422  Primero, mueva todos los elementos que no teng...  Spanish\n",
              "423  Deshazte de al menos cinco cosas que no hayas ...  Spanish\n",
              "424  Saque toda la basura y coloque todos los plato...  Spanish\n",
              "425  Ahora busque una ubicación para cada uno de lo...  Spanish\n",
              "\n",
              "[426 rows x 2 columns]"
            ]
          },
          "metadata": {
            "tags": []
          },
          "execution_count": 6
        }
      ]
    },
    {
      "cell_type": "code",
      "metadata": {
        "colab": {
          "base_uri": "https://localhost:8080/",
          "height": 296
        },
        "id": "dYDbeuSg3r63",
        "outputId": "8b1b108d-0701-4dd1-9a07-f878a07ed8ea"
      },
      "source": [
        "sb.countplot(data=data, x='Language')"
      ],
      "execution_count": 7,
      "outputs": [
        {
          "output_type": "execute_result",
          "data": {
            "text/plain": [
              "<matplotlib.axes._subplots.AxesSubplot at 0x7f905f75df50>"
            ]
          },
          "metadata": {
            "tags": []
          },
          "execution_count": 7
        },
        {
          "output_type": "display_data",
          "data": {
            "image/png": "[encoded data removed]",
            "text/plain": [
              "<Figure size 432x288 with 1 Axes>"
            ]
          },
          "metadata": {
            "tags": [],
            "needs_background": "light"
          }
        }
      ]
    },
    {
      "cell_type": "code",
      "metadata": {
        "id": "IWzmtf25-Wt7"
      },
      "source": [
        "def stats(data):\n",
        "  for sentences in data.Sentences:\n",
        "    word_list= ' '.join(sentences).split()\n",
        "    noof_sentences = len(sentences)\n",
        "    noof_words = len(word_list)\n",
        "    noof_unique_words = len(word_list.unique())\n",
        "    print(f'Language: {language}')\n",
        "    print('-----------------------')\n",
        "    print(f'Number of sentences\\t:\\t {noof_sentences}')\n",
        "    print(f'Number of words\\t\\t:\\t {noof_words}')\n",
        "    print(f'Number of unique words\\t:\\t {noof_unique_words}')"
      ],
      "execution_count": 23,
      "outputs": []
    },
    {
      "cell_type": "code",
      "metadata": {
        "colab": {
          "base_uri": "https://localhost:8080/"
        },
        "id": "tEjMmDPn4QcU",
        "outputId": "e809a61d-a559-440b-a9f1-7c76385e5249"
      },
      "source": [
        "data.value_counts('Language')"
      ],
      "execution_count": 8,
      "outputs": [
        {
          "output_type": "execute_result",
          "data": {
            "text/plain": [
              "Language\n",
              "English    182\n",
              "Spanish     65\n",
              "French      65\n",
              "German      60\n",
              "Italian     54\n",
              "dtype: int64"
            ]
          },
          "metadata": {
            "tags": []
          },
          "execution_count": 8
        }
      ]
    },
    {
      "cell_type": "code",
      "metadata": {
        "id": "wyumvTof4iBt"
      },
      "source": [
        "X_train, X_test, y_train, y_test = train_test_split(X, y, test_size=0.33, random_state=42)"
      ],
      "execution_count": 9,
      "outputs": []
    },
    {
      "cell_type": "code",
      "metadata": {
        "id": "lrvp4bp06HHS"
      },
      "source": [
        "cnt = CountVectorizer(analyzer = 'char',ngram_range=(2,2))\n",
        "\n",
        "pipeline = Pipeline([\n",
        "   ('vectorizer',cnt),  \n",
        "   ('model',MultinomialNB())\n",
        "])"
      ],
      "execution_count": 10,
      "outputs": []
    },
    {
      "cell_type": "code",
      "metadata": {
        "id": "oJv90M_I6QZ1"
      },
      "source": [
        "pipeline.fit(X_train,y_train)\n",
        "y_pred = pipeline.predict(X_test)"
      ],
      "execution_count": 11,
      "outputs": []
    },
    {
      "cell_type": "code",
      "metadata": {
        "colab": {
          "base_uri": "https://localhost:8080/"
        },
        "id": "krUTxVs_6Ygq",
        "outputId": "08ff1784-c74f-412a-a012-608c5d20eb81"
      },
      "source": [
        "predect = [input()]\n",
        "print(pipeline.predict(predect))"
      ],
      "execution_count": 12,
      "outputs": [
        {
          "output_type": "stream",
          "text": [
            "Comment allez-vous\n",
            "['French']\n"
          ],
          "name": "stdout"
        }
      ]
    },
    {
      "cell_type": "code",
      "metadata": {
        "id": "PcFp_-N26owa"
      },
      "source": [
        ""
      ],
      "execution_count": 12,
      "outputs": []
    }
  ]
}